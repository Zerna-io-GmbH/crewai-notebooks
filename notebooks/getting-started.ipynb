{
 "cells": [
  {
   "cell_type": "markdown",
   "metadata": {},
   "source": [
    "# Getting Started with CrewAI"
   ]
  },
  {
   "cell_type": "markdown",
   "metadata": {},
   "source": [
    "## Dependencies"
   ]
  },
  {
   "cell_type": "code",
   "execution_count": 7,
   "metadata": {},
   "outputs": [],
   "source": [
    "import os\n",
    "from dotenv import load_dotenv\n",
    "from crewai import Agent, Task, Crew, Process\n",
    "from langchain_community.tools import DuckDuckGoSearchRun"
   ]
  },
  {
   "cell_type": "markdown",
   "metadata": {},
   "source": [
    "## Load Tools and Environment Variables"
   ]
  },
  {
   "cell_type": "code",
   "execution_count": 3,
   "metadata": {},
   "outputs": [],
   "source": [
    "load_dotenv()\n",
    "search_tool = DuckDuckGoSearchRun()"
   ]
  },
  {
   "cell_type": "markdown",
   "metadata": {},
   "source": [
    "## Setup Variables"
   ]
  },
  {
   "cell_type": "code",
   "execution_count": 5,
   "metadata": {},
   "outputs": [],
   "source": [
    "topic = 'AI Open Source Models in 2024'"
   ]
  },
  {
   "cell_type": "markdown",
   "metadata": {},
   "source": [
    "## Setup Agents"
   ]
  },
  {
   "cell_type": "code",
   "execution_count": 8,
   "metadata": {},
   "outputs": [],
   "source": [
    "# Creating a senior researcher agent\n",
    "researcher = Agent(\n",
    "  role='Senior Researcher',\n",
    "  goal=f'Uncover groundbreaking technologies around {topic}',\n",
    "  verbose=True,\n",
    "  backstory=\"\"\"Driven by curiosity, you're at the forefront of\n",
    "  innovation, eager to explore and share knowledge that could change\n",
    "  the world.\"\"\"\n",
    ")\n",
    "\n",
    "# Creating a writer agent\n",
    "writer = Agent(\n",
    "  role='Writer',\n",
    "  goal=f'Narrate compelling tech stories around {topic}',\n",
    "  verbose=True,\n",
    "  backstory=\"\"\"With a flair for simplifying complex topics, you craft\n",
    "  engaging narratives that captivate and educate, bringing new\n",
    "  discoveries to light in an accessible manner.\"\"\"\n",
    ")\n",
    "\n",
    "# Research task for identifying AI trends\n",
    "research_task = Task(\n",
    "  description=f\"\"\"Identify the next big trend in {topic}.\n",
    "  Focus on identifying pros and cons and the overall narrative.\n",
    "\n",
    "  Your final report should clearly articulate the key points,\n",
    "  its market opportunities, and potential risks.\n",
    "  \"\"\",\n",
    "  expected_output='A comprehensive 3 paragraphs long report on the latest AI trends.',\n",
    "  max_inter=3,\n",
    "  tools=[search_tool],\n",
    "  agent=researcher\n",
    ")"
   ]
  },
  {
   "cell_type": "markdown",
   "metadata": {},
   "source": [
    "## Setup Tasks"
   ]
  },
  {
   "cell_type": "code",
   "execution_count": 9,
   "metadata": {},
   "outputs": [],
   "source": [
    "# Research task for identifying AI trends\n",
    "research_task = Task(\n",
    "  description=f\"\"\"Identify the next big trend in {topic}.\n",
    "  Focus on identifying pros and cons and the overall narrative.\n",
    "\n",
    "  Your final report should clearly articulate the key points,\n",
    "  its market opportunities, and potential risks.\n",
    "  \"\"\",\n",
    "  expected_output='A comprehensive 3 paragraphs long report on the latest AI trends.',\n",
    "  max_inter=3,\n",
    "  tools=[search_tool],\n",
    "  agent=researcher\n",
    ")\n",
    "\n",
    "# Writing task based on research findings\n",
    "write_task = Task(\n",
    "  description=f\"\"\"Compose an insightful article on {topic}.\n",
    "  Focus on the latest trends and how it's impacting the industry.\n",
    "  This article should be easy to understand, engaging and positive.\n",
    "  \"\"\",\n",
    "  expected_output=f'A 4 paragraph article on {topic} advancements.',\n",
    "  tools=[search_tool],\n",
    "  agent=writer\n",
    ")"
   ]
  },
  {
   "cell_type": "markdown",
   "metadata": {},
   "source": [
    "## Setup Crew"
   ]
  },
  {
   "cell_type": "code",
   "execution_count": 11,
   "metadata": {},
   "outputs": [
    {
     "name": "stderr",
     "output_type": "stream",
     "text": [
      "Overriding of current TracerProvider is not allowed\n"
     ]
    }
   ],
   "source": [
    "crew = Crew(\n",
    "  agents=[researcher, writer],\n",
    "  tasks=[research_task, write_task],\n",
    "  process=Process.sequential  # Sequential task execution\n",
    ")"
   ]
  },
  {
   "cell_type": "markdown",
   "metadata": {},
   "source": [
    "## Run Crew"
   ]
  },
  {
   "cell_type": "code",
   "execution_count": 12,
   "metadata": {},
   "outputs": [
    {
     "name": "stdout",
     "output_type": "stream",
     "text": [
      "\n",
      "\n",
      "\u001b[1m> Entering new CrewAgentExecutor chain...\u001b[0m\n",
      "\u001b[32;1m\u001b[1;3mThought: To identify the next big trend in AI Open Source Models in 2024, I need to do some research on the current and upcoming trends in AI and Machine Learning. This data will help me to predict the future trends. I will use the DuckDuckGo search tool to find the relevant information.\n",
      "Action: duckduckgo_search\n",
      "Action Input: AI Open Source Models trends 2024.\u001b[0m\u001b[93m \n",
      "\n",
      "Here are the top 10 AI and machine learning trends to prepare for in 2024. 1. Multimodal AI Multimodal AI goes beyond traditional single-mode data processing to encompass multiple input types, such as text, images and sound -- a step toward mimicking the human ability to process diverse sensory information. In 2024, open source pretrained AI models gain significant traction, empowering businesses to accelerate growth by combining these models with private or real-time data. This synergy enhances productivity and cost-efficiency. IBM actively contributes to open source AI models, which are exemplified by its collaboration with NASA. In 2024, generative AI might actually become useful for the regular, non-tech person, and we are going to see more people tinkering with a million little AI models. State-of-the-art AI... Which AI trends are you keeping an eye on for 2024? \"The release of ever smaller permissively-licensed multimodal models with excellent reasoning capabilities, and a concomitant wave of tinkering, hacking, and discovery.\" How do you think these trends might reshape technology, industries, or our daily routines? Generative AI has already reached its \"hobbyist\" phase—and as with computers, further progress aims to attain greater performance in smaller packages. 2023 saw an explosion of increasingly efficient foundation models with open licenses, beginning with the launch of Meta's LlaMa family of large language models (LLMs) and followed by the likes of ...\n",
      "\u001b[00m\n",
      "\u001b[32;1m\u001b[1;3mBased on the search results, Multimodal AI and Generative AI seem to be the emerging trends in 2024. Also, the use of open-source pretrained AI models is gaining significance. I'll need to dig deeper into these trends to understand their pros, cons, market opportunities, and potential risks. I'll start with Multimodal AI. \n",
      "Action: duckduckgo_search\n",
      "Action Input: Multimodal AI pros, cons, market opportunities, and risks 2024.\u001b[0m"
     ]
    },
    {
     "name": "stderr",
     "output_type": "stream",
     "text": [
      "g:\\dev\\zernaIO\\crewai-notebooks\\.venv\\Lib\\site-packages\\curl_cffi\\aio.py:192: UserWarning: Curlm alread closed! quitting from process_data\n",
      "  warnings.warn(\"Curlm alread closed! quitting from process_data\")\n"
     ]
    },
    {
     "name": "stdout",
     "output_type": "stream",
     "text": [
      "\u001b[93m \n",
      "\n",
      "Here are some important current AI trends to look out for in the coming year. Reality check: more realistic expectations. Multimodal AI. Small (er) language models and open source advancements. GPU shortages and cloud costs. Model optimization is getting more accessible. Customized local models and data pipelines. More powerful virtual agents. 3) DIY AI: This is a bit self-serving because DIY AI is the title of the book I will release in the spring of 2024. But I genuinely believe that 2022-23 unleashed AI to aficionado types (many of whom transitioned from the crypto craze). However, 2024 will be the year that a broader group of early-adopter enthusiasts take AI into their own hands ... 3 things to tell your peers. 1. The trends and technologies featured in Gartner's impact radar for generative AI fall into four key themes, helping product leaders gain a competitive edge. 2. Use the impact radar to inform your strategy for developing GenAI-enabled products and services. 3. According to recent research, the global market for multimodal AI will grow to $4.5 billion by 2028. How multimodal AI tools work Multimodal AI systems support a much wider range of tasks than conventional LLMs, providing users with more variety in the type of input they can enter and the output they receive. In 2024, multimodal AI is expected to evolve significantly, ushering in a shift in generative AI capabilities. These models are progressing beyond traditional single-mode functions, incorporating ...\n",
      "\u001b[00m\n",
      "\u001b[32;1m\u001b[1;3mMultimodal AI appears to be a significant trend for 2024. The advantages include the ability to process multiple types of input, such as text, images, and sound, which can result in more diverse and versatile applications. The global market for multimodal AI is projected to grow to $4.5 billion by 2028, indicating significant market opportunity. However, the search results didn't provide specific cons or risks associated with multimodal AI. Therefore, I need to conduct a separate search to find out the cons and risks of Multimodal AI in 2024.\n",
      "Action: duckduckgo_search\n",
      "Action Input: Multimodal AI cons and risks 2024.\u001b[0m"
     ]
    },
    {
     "name": "stderr",
     "output_type": "stream",
     "text": [
      "g:\\dev\\zernaIO\\crewai-notebooks\\.venv\\Lib\\site-packages\\curl_cffi\\aio.py:192: UserWarning: Curlm alread closed! quitting from process_data\n",
      "  warnings.warn(\"Curlm alread closed! quitting from process_data\")\n"
     ]
    },
    {
     "name": "stdout",
     "output_type": "stream",
     "text": [
      "\u001b[93m \n",
      "\n",
      "Computer Vision From Multimodal Models to DIY AI: Expert Insights on AI Trends for 2024 By Deci Research Team February 8, 2024 12 min read From generative AI's breakout year in 2023 to the rapid advancements in computer vision and natural language processing, this blog highlights the AI trends that matter—and will matter this year. Artificial intelligence has the potential to bring \"significant benefits\" to sectors like agriculture, education and healthcare. But a new report by the World Economic Forum highlights the potential dangers of AI to business and society. Risk professionals say better regulation is needed to allow us to reap the benefits safely. 4. AI will help us to prioritize our humanity. AI is already transforming industries from healthcare to manufacturing and creating new pathways to deliver education and public services. \"AI allows humans to access better tools and more capabilities than ever before,\" said Sam Altman, chief executive officer of OpenAI. 3 things to tell your peers. 1. The trends and technologies featured in Gartner's impact radar for generative AI fall into four key themes, helping product leaders gain a competitive edge. 2. Use the impact radar to inform your strategy for developing GenAI-enabled products and services. 3. With broad AI comes broad risks in everything from misinformation to AI-related privacy risks, failures, and mistakes. 2023 saw an increasing flow of regulation, from the United States AI Bill of ...\n",
      "\u001b[00m\n",
      "\u001b[32;1m\u001b[1;3mThe potential risks of AI, particularly Multimodal AI, include misinformation, privacy risks, and possible failures or mistakes. Regulation is also becoming an increasingly important factor, as demonstrated by the AI Bill in the USA. Now that I have a better understanding of Multimodal AI, I need to research the other major trend, Generative AI, to understand its pros, cons, market opportunities, and potential risks.\n",
      "Action: duckduckgo_search\n",
      "Action Input: Generative AI pros, cons, market opportunities, and risks 2024.\u001b[0m"
     ]
    },
    {
     "name": "stderr",
     "output_type": "stream",
     "text": [
      "g:\\dev\\zernaIO\\crewai-notebooks\\.venv\\Lib\\site-packages\\curl_cffi\\aio.py:192: UserWarning: Curlm alread closed! quitting from process_data\n",
      "  warnings.warn(\"Curlm alread closed! quitting from process_data\")\n"
     ]
    },
    {
     "name": "stdout",
     "output_type": "stream",
     "text": [
      "\u001b[93m \n",
      "\n",
      "Pardeep Sharma December 31, 2023 3 mins read Unleashing the Power of Generative AI in 2024: Opportunities, Risks, and Implications Generative Artificial Intelligence (Generative AI) has witnessed remarkable advancements, making waves across various industries and transforming the way we interact with technology. getty In the year since generative artificial intelligence (AI) found its footing in broader public conversation, its application across enterprise technology has only grown—and so has... Use the impact radar for generative AI to plan investments and strategy. Gartner recommends that when developing GenAI-enabled products and services, you: Create a plan to deploy and test. Focus first on the most prevalent use cases — those that are already delivering real value to users. Draw an investment roadmap that prioritizes opportunities. As Generative AI becomes more sophisticated, there is an increased risk of it being exploited for cyber threats, including the creation of convincing phishing emails or deepfake videos for malicious purposes. Robust security measures are needed to safeguard against these threats. Generative AI was the explosive breakout tech trend of 2023, capturing the attention of not only techies and futurists but mainstream audiences, too, with its ability to create seemingly...\n",
      "\u001b[00m\n",
      "\u001b[32;1m\u001b[1;3mGenerative AI is another trend that is gaining significant traction. It has the potential to transform how we interact with technology across various industries. The most prevalent use cases are those currently delivering real value to users. However, as Generative AI becomes more sophisticated, there's an increased risk of it being exploited for cyber threats, such as the creation of convincing phishing emails or deepfake videos. Therefore, robust security measures are crucial. Now that I have gathered enough data about Multimodal AI and Generative AI, I can compile a comprehensive report.\n",
      "Action: Delegate work to co-worker\n",
      "Action Input: coworker: Writer, task: Write a comprehensive 3 paragraphs long report on the latest AI trends, context: The two major trends in AI Open Source Models in 2024 seem to be Multimodal AI and Generative AI. Multimodal AI, which is capable of processing multiple types of input, has a significant market opportunity with the global market projected to grow to $4.5 billion by 2028. However, it comes with risks such as misinformation, privacy risks, and possible failures or mistakes. Regulation is also becoming increasingly important. Generative AI is transforming how we interact with technology across various industries, with the most prevalent use cases currently delivering real value to users. But, as it becomes more sophisticated, there's an increased risk of it being exploited for cyber threats. Therefore, robust security measures are crucial.\u001b[0m\n",
      "\n",
      "\u001b[1m> Entering new CrewAgentExecutor chain...\u001b[0m\n",
      "\u001b[32;1m\u001b[1;3mThought: Do I need to use a tool? No\n",
      "\n",
      "Final Answer: \n",
      "\n",
      "The year 2024 has seen two major trends in AI Open Source Models; Multimodal AI and Generative AI. Multimodal AI, a model capable of processing multiple types of input, has witnessed an impressive growth trajectory. With the global market projected to surge to a whopping $4.5 billion by 2028, it's clear that this technology holds significant potential. However, it's not without its challenges. Misinformation, privacy risks, and potential system failures pose considerable obstacles, highlighting the need for stringent regulation measures to assure safety and accuracy.\n",
      "\n",
      "Generative AI, on the other hand, is revolutionizing the way we interact with technology across a multitude of industries. Its potential lies in its ability to autonomously generate new content, from art to text, and even code. This technology has started to deliver real value to users, with its most prevalent use cases currently reaping substantial benefits. However, as with any powerful technology, Generative AI's sophistication brings with it an increased risk of exploitation for cyber threats.\n",
      "\n",
      "These trends highlight the ever-evolving nature of technology and the importance of staying ahead of the curve in the AI realm. As we continue to push the boundaries of what's possible with AI, the need for robust security measures becomes increasingly apparent. Thus, the development and implementation of these technologies must go hand in hand with the creation of comprehensive security frameworks to protect against potential misuse or exploitation.\u001b[0m\n",
      "\n",
      "\u001b[1m> Finished chain.\u001b[0m\n",
      "\u001b[93m \n",
      "\n",
      "The year 2024 has seen two major trends in AI Open Source Models; Multimodal AI and Generative AI. Multimodal AI, a model capable of processing multiple types of input, has witnessed an impressive growth trajectory. With the global market projected to surge to a whopping $4.5 billion by 2028, it's clear that this technology holds significant potential. However, it's not without its challenges. Misinformation, privacy risks, and potential system failures pose considerable obstacles, highlighting the need for stringent regulation measures to assure safety and accuracy.\n",
      "\n",
      "Generative AI, on the other hand, is revolutionizing the way we interact with technology across a multitude of industries. Its potential lies in its ability to autonomously generate new content, from art to text, and even code. This technology has started to deliver real value to users, with its most prevalent use cases currently reaping substantial benefits. However, as with any powerful technology, Generative AI's sophistication brings with it an increased risk of exploitation for cyber threats.\n",
      "\n",
      "These trends highlight the ever-evolving nature of technology and the importance of staying ahead of the curve in the AI realm. As we continue to push the boundaries of what's possible with AI, the need for robust security measures becomes increasingly apparent. Thus, the development and implementation of these technologies must go hand in hand with the creation of comprehensive security frameworks to protect against potential misuse or exploitation.\n",
      "\u001b[00m\n",
      "\u001b[32;1m\u001b[1;3mDo I need to use a tool? No\n",
      "Final Answer: Here's the comprehensive report on the latest AI trends in 2024:\n",
      "\n",
      "The year 2024 has seen two major trends in AI Open Source Models; Multimodal AI and Generative AI. Multimodal AI, a model capable of processing multiple types of input, has witnessed an impressive growth trajectory. With the global market projected to surge to a whopping $4.5 billion by 2028, it's clear that this technology holds significant potential. However, it's not without its challenges. Misinformation, privacy risks, and potential system failures pose considerable obstacles, highlighting the need for stringent regulation measures to assure safety and accuracy.\n",
      "\n",
      "Generative AI, on the other hand, is revolutionizing the way we interact with technology across a multitude of industries. Its potential lies in its ability to autonomously generate new content, from art to text, and even code. This technology has started to deliver real value to users, with its most prevalent use cases currently reaping substantial benefits. However, as with any powerful technology, Generative AI's sophistication brings with it an increased risk of exploitation for cyber threats.\n",
      "\n",
      "These trends highlight the ever-evolving nature of technology and the importance of staying ahead of the curve in the AI realm. As we continue to push the boundaries of what's possible with AI, the need for robust security measures becomes increasingly apparent. Thus, the development and implementation of these technologies must go hand in hand with the creation of comprehensive security frameworks to protect against potential misuse or exploitation.\u001b[0m\n",
      "\n",
      "\u001b[1m> Finished chain.\u001b[0m\n",
      "\n",
      "\n",
      "\u001b[1m> Entering new CrewAgentExecutor chain...\u001b[0m\n",
      "\u001b[32;1m\u001b[1;3mThought: Do I need to use a tool? No\n",
      "\n",
      "Final Answer: \n",
      "\n",
      "In the dynamic landscape of artificial intelligence, 2024 has brought us to the forefront of innovation with the rise of Multimodal and Generative AI open source models. These advancements, while transformative, necessitate a deep dive into their implications and potential.\n",
      "\n",
      "Multimodal AI, capable of processing various forms of input, has taken a leap forward in 2024. The technology's stellar trajectory indicates a potential boom, with the global market forecasted to reach $4.5 billion by 2028. Yet, it's not all smooth sailing. The model, while robust, brings with it the challenges of misinformation and privacy risks. Coupled with the potential for system failures, it underscores the urgency for strict regulatory measures to ensure accuracy and safeguard user information.\n",
      "\n",
      "Generative AI is another trend that has made significant strides this year. By autonomously creating new content, it's transforming the way we interact with technology. From generating art to writing code, Generative AI's potential is immense. Yet, it's not without its downside. The technology's sophistication has opened up new avenues for cyber threats, necessitating rigorous security measures to mitigate potential exploitation.\n",
      "\n",
      "The year 2024 has reaffirmed the importance of staying ahead in the AI race. As we push the boundaries of what's possible, the need for comprehensive security frameworks has become increasingly clear. The continued development of AI technologies must go hand in hand with robust security protocols to protect against misuse. This delicate balance between innovation and security remains a key focus as we continue to navigate the future of AI.\u001b[0m\n",
      "\n",
      "\u001b[1m> Finished chain.\u001b[0m\n",
      "In the dynamic landscape of artificial intelligence, 2024 has brought us to the forefront of innovation with the rise of Multimodal and Generative AI open source models. These advancements, while transformative, necessitate a deep dive into their implications and potential.\n",
      "\n",
      "Multimodal AI, capable of processing various forms of input, has taken a leap forward in 2024. The technology's stellar trajectory indicates a potential boom, with the global market forecasted to reach $4.5 billion by 2028. Yet, it's not all smooth sailing. The model, while robust, brings with it the challenges of misinformation and privacy risks. Coupled with the potential for system failures, it underscores the urgency for strict regulatory measures to ensure accuracy and safeguard user information.\n",
      "\n",
      "Generative AI is another trend that has made significant strides this year. By autonomously creating new content, it's transforming the way we interact with technology. From generating art to writing code, Generative AI's potential is immense. Yet, it's not without its downside. The technology's sophistication has opened up new avenues for cyber threats, necessitating rigorous security measures to mitigate potential exploitation.\n",
      "\n",
      "The year 2024 has reaffirmed the importance of staying ahead in the AI race. As we push the boundaries of what's possible, the need for comprehensive security frameworks has become increasingly clear. The continued development of AI technologies must go hand in hand with robust security protocols to protect against misuse. This delicate balance between innovation and security remains a key focus as we continue to navigate the future of AI.\n"
     ]
    },
    {
     "name": "stderr",
     "output_type": "stream",
     "text": [
      "g:\\dev\\zernaIO\\crewai-notebooks\\.venv\\Lib\\site-packages\\curl_cffi\\aio.py:192: UserWarning: Curlm alread closed! quitting from process_data\n",
      "  warnings.warn(\"Curlm alread closed! quitting from process_data\")\n"
     ]
    }
   ],
   "source": [
    "result = crew.kickoff()\n",
    "print(result)"
   ]
  }
 ],
 "metadata": {
  "kernelspec": {
   "display_name": ".venv",
   "language": "python",
   "name": "python3"
  },
  "language_info": {
   "codemirror_mode": {
    "name": "ipython",
    "version": 3
   },
   "file_extension": ".py",
   "mimetype": "text/x-python",
   "name": "python",
   "nbconvert_exporter": "python",
   "pygments_lexer": "ipython3",
   "version": "3.12.2"
  }
 },
 "nbformat": 4,
 "nbformat_minor": 2
}
